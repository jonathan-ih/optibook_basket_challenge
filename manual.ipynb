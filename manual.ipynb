{
 "cells": [
  {
   "cell_type": "markdown",
   "metadata": {},
   "source": [
    "# Optibook Manual\n",
    "\n",
    "This notebook contains examples for **all interactions** you can do with optibook (that means inserting orders, getting your positions, etc.). You should use this notebook as a reference/documenation for the system later on when you write more extensive algorithms.\n",
    "\n",
    "First we do some setup and import the optibook client, which is used to connect to the optibook exchange. If everything is setup correctly, you should see the line \"Setup was successful.\" being printed."
   ]
  },
  {
   "cell_type": "code",
   "execution_count": 16,
   "metadata": {},
   "outputs": [
    {
     "name": "stdout",
     "output_type": "stream",
     "text": [
      "Setup was successful.\n"
     ]
    }
   ],
   "source": [
    "from optibook.synchronous_client import Exchange\n",
    "\n",
    "import logging\n",
    "logger = logging.getLogger('client')\n",
    "logger.setLevel('ERROR')\n",
    "\n",
    "print(\"Setup was successful.\")"
   ]
  },
  {
   "cell_type": "markdown",
   "metadata": {},
   "source": [
    "### Define Your Instrument\n",
    "\n",
    "An instrument is the term we use for the 'thing' that we are trading. As such, if we are trading BMW stocks, we would call those an instrument. However, BMW options would be a different instrument. \n",
    "\n",
    "This field determines which instrument we are trading. By changing it, you will insert trades for a different instrument. You can see all available instruments by looking at the dropdown menu labeled \"Instruments\" on the visualizer."
   ]
  },
  {
   "cell_type": "code",
   "execution_count": 17,
   "metadata": {},
   "outputs": [],
   "source": [
    "instrument_id = 'GOOGLE'"
   ]
  },
  {
   "cell_type": "markdown",
   "metadata": {},
   "source": [
    "### Connect to Exchange"
   ]
  },
  {
   "cell_type": "code",
   "execution_count": 18,
   "metadata": {},
   "outputs": [
    {
     "name": "stderr",
     "output_type": "stream",
     "text": [
      "2021-03-06 21:15:29,253 [asyncio   ] [MainThread  ] Using selector: EpollSelector\n",
      "2021-03-06 21:15:29,396 [client    ] [Thread-4    ] Forcing a disconnect due to an error: Closing connection because someone else logged in with the same credentials. Only one session may be active at the same time.\n"
     ]
    }
   ],
   "source": [
    "e = Exchange()\n",
    "a = e.connect()\n",
    "\n",
    "# you can also define host/user/pass yourself\n",
    "# when not defined, it is taken from ~/.optibook file if it exists\n",
    "# if that file does not exists, an error is thrown\n",
    "\n",
    "#e = Exchange(host='host-to-connect-to')\n",
    "#a = e.connect(username='your-username', password='your-password')\n"
   ]
  },
  {
   "cell_type": "markdown",
   "metadata": {},
   "source": [
    "## Outstanding Orders, Trades, Current Positions and PnL"
   ]
  },
  {
   "cell_type": "code",
   "execution_count": 19,
   "metadata": {},
   "outputs": [],
   "source": [
    "# Returns all currently outstanding orders\n",
    "orders = e.get_outstanding_orders(instrument_id)\n",
    "for o in orders.values():\n",
    "    print(o)"
   ]
  },
  {
   "cell_type": "code",
   "execution_count": 20,
   "metadata": {},
   "outputs": [],
   "source": [
    "# Returns all trades you have done since the last time this function was called\n",
    "trades = e.poll_new_trades(instrument_id)\n",
    "for t in trades:\n",
    "    print(f\"[TRADED {t.instrument_id}] price({t.price}), volume({t.volume}), side({t.side})\")"
   ]
  },
  {
   "cell_type": "code",
   "execution_count": 21,
   "metadata": {},
   "outputs": [],
   "source": [
    "# Returns all trades you have done since since the instantiation of the Exchange\n",
    "trades = e.get_trade_history(instrument_id)\n",
    "for t in trades:\n",
    "    print(f\"[TRADED {t.instrument_id}] price({t.price}), volume({t.volume}), side({t.side})\")"
   ]
  },
  {
   "cell_type": "code",
   "execution_count": 22,
   "metadata": {},
   "outputs": [
    {
     "name": "stdout",
     "output_type": "stream",
     "text": [
      "AMAZON 0\n",
      "GOOGLE 0\n",
      "TECH_BASKET 0\n"
     ]
    }
   ],
   "source": [
    "# Returns all current positions\n",
    "positions = e.get_positions()\n",
    "for p in positions:\n",
    "    print(p, positions[p])"
   ]
  },
  {
   "cell_type": "code",
   "execution_count": 23,
   "metadata": {},
   "outputs": [
    {
     "name": "stdout",
     "output_type": "stream",
     "text": [
      "AMAZON {'volume': 0, 'cash': -12.600000000001387}\n",
      "GOOGLE {'volume': 0, 'cash': -46.100000000002126}\n",
      "TECH_BASKET {'volume': 0, 'cash': -256.1999999999989}\n"
     ]
    }
   ],
   "source": [
    "# Returns all current positions with cash invested\n",
    "positions = e.get_positions_and_cash()\n",
    "for p in positions:\n",
    "    print(p, positions[p])"
   ]
  },
  {
   "cell_type": "code",
   "execution_count": 24,
   "metadata": {},
   "outputs": [
    {
     "name": "stdout",
     "output_type": "stream",
     "text": [
      "-314.9000000000024\n"
     ]
    }
   ],
   "source": [
    "# Returns Current PnL based on last Traded Price\n",
    "pnl = e.get_pnl()\n",
    "print(pnl)"
   ]
  },
  {
   "cell_type": "markdown",
   "metadata": {},
   "source": [
    "## Order Book and Public Trade Ticks"
   ]
  },
  {
   "cell_type": "code",
   "execution_count": 33,
   "metadata": {},
   "outputs": [
    {
     "name": "stdout",
     "output_type": "stream",
     "text": [
      "1\n",
      "1\n",
      "[price_volume] price=98.4, volume=250\n",
      "[price_volume] price=98.30000000000001, volume=250\n",
      "[('__class__', <class 'optibook.common_types.PriceBook'>), ('__delattr__', <method-wrapper '__delattr__' of PriceBook object at 0x7f85bc110f28>), ('__dict__', {'timestamp': datetime.datetime(2021, 3, 6, 21, 18, 9, 883779), 'instrument_id': 'GOOGLE', 'bids': [[price_volume] price=98.30000000000001, volume=250], 'asks': [[price_volume] price=98.4, volume=250]}), ('__dir__', <built-in method __dir__ of PriceBook object at 0x7f85bc110f28>), ('__doc__', '\\n    An order book at a specific point in time.\\n\\n    Attributes\\n    ----------\\n    timestamp: datetime.datetime\\n        The time of the snapshot.\\n\\n    instrument_id: str\\n        The id of the instrument the book is on.\\n\\n    bids: List[PriceVolume]\\n        List of price points and volumes representing all bid orders.\\n        Sorted from highest price to lowest price (i.e. from best to worst).\\n\\n    asks: List[PriceVolume]\\n        List of price points and volumes representing all ask orders.\\n        Sorted from lowest price to highest price (i.e. from best to worst).\\n    '), ('__eq__', <bound method PriceBook.__eq__ of <optibook.common_types.PriceBook object at 0x7f85bc110f28>>), ('__format__', <built-in method __format__ of PriceBook object at 0x7f85bc110f28>), ('__ge__', <method-wrapper '__ge__' of PriceBook object at 0x7f85bc110f28>), ('__getattribute__', <method-wrapper '__getattribute__' of PriceBook object at 0x7f85bc110f28>), ('__gt__', <method-wrapper '__gt__' of PriceBook object at 0x7f85bc110f28>), ('__hash__', None), ('__init__', <bound method PriceBook.__init__ of <optibook.common_types.PriceBook object at 0x7f85bc110f28>>), ('__init_subclass__', <built-in method __init_subclass__ of type object at 0x24ff458>), ('__le__', <method-wrapper '__le__' of PriceBook object at 0x7f85bc110f28>), ('__lt__', <method-wrapper '__lt__' of PriceBook object at 0x7f85bc110f28>), ('__module__', 'optibook.common_types'), ('__ne__', <method-wrapper '__ne__' of PriceBook object at 0x7f85bc110f28>), ('__new__', <built-in method __new__ of type object at 0x7f85d264e6b0>), ('__reduce__', <built-in method __reduce__ of PriceBook object at 0x7f85bc110f28>), ('__reduce_ex__', <built-in method __reduce_ex__ of PriceBook object at 0x7f85bc110f28>), ('__repr__', <method-wrapper '__repr__' of PriceBook object at 0x7f85bc110f28>), ('__setattr__', <method-wrapper '__setattr__' of PriceBook object at 0x7f85bc110f28>), ('__sizeof__', <built-in method __sizeof__ of PriceBook object at 0x7f85bc110f28>), ('__str__', <method-wrapper '__str__' of PriceBook object at 0x7f85bc110f28>), ('__subclasshook__', <built-in method __subclasshook__ of type object at 0x24ff458>), ('__weakref__', None), ('asks', [[price_volume] price=98.4, volume=250]), ('bids', [[price_volume] price=98.30000000000001, volume=250]), ('instrument_id', 'GOOGLE'), ('timestamp', datetime.datetime(2021, 3, 6, 21, 18, 9, 883779))]\n"
     ]
    },
    {
     "name": "stderr",
     "output_type": "stream",
     "text": [
      "2021-03-06 21:18:32,497 [client    ] [Thread-5    ] Forcing a disconnect due to an error: Closing connection because someone else logged in with the same credentials. Only one session may be active at the same time.\n"
     ]
    }
   ],
   "source": [
    "import inspect\n",
    "book = e.get_last_price_book(instrument_id)\n",
    "print(len(book.asks))\n",
    "print(len(book.bids))\n",
    "for a in book.asks:\n",
    "    print(a)\n",
    "for b in book.bids:\n",
    "    print(b)\n",
    "\n",
    "print(inspect.getmembers(book))"
   ]
  },
  {
   "cell_type": "code",
   "execution_count": 28,
   "metadata": {},
   "outputs": [
    {
     "name": "stdout",
     "output_type": "stream",
     "text": [
      "[GOOGLE] price(98.4), volume(5), aggressor_side(ask), buyer(), seller()\n",
      "[GOOGLE] price(98.30000000000001), volume(1), aggressor_side(ask), buyer(), seller()\n",
      "[GOOGLE] price(98.2), volume(1), aggressor_side(ask), buyer(), seller()\n",
      "[GOOGLE] price(98.2), volume(5), aggressor_side(bid), buyer(), seller()\n",
      "[GOOGLE] price(98.2), volume(245), aggressor_side(bid), buyer(), seller()\n",
      "[GOOGLE] price(98.30000000000001), volume(50), aggressor_side(bid), buyer(), seller()\n",
      "[GOOGLE] price(98.30000000000001), volume(1), aggressor_side(bid), buyer(), seller()\n",
      "[GOOGLE] price(98.2), volume(5), aggressor_side(bid), buyer(), seller()\n",
      "[GOOGLE] price(98.2), volume(5), aggressor_side(bid), buyer(), seller()\n",
      "[GOOGLE] price(98.2), volume(5), aggressor_side(bid), buyer(), seller()\n",
      "[GOOGLE] price(98.2), volume(5), aggressor_side(bid), buyer(), seller()\n",
      "[GOOGLE] price(98.2), volume(5), aggressor_side(bid), buyer(), seller()\n",
      "[GOOGLE] price(98.2), volume(5), aggressor_side(bid), buyer(), seller()\n",
      "[GOOGLE] price(98.2), volume(5), aggressor_side(bid), buyer(), seller()\n",
      "[GOOGLE] price(98.2), volume(5), aggressor_side(bid), buyer(), seller()\n",
      "[GOOGLE] price(98.2), volume(5), aggressor_side(bid), buyer(), seller()\n",
      "[GOOGLE] price(98.2), volume(5), aggressor_side(bid), buyer(), seller()\n",
      "[GOOGLE] price(98.2), volume(5), aggressor_side(bid), buyer(), seller()\n",
      "[GOOGLE] price(98.2), volume(5), aggressor_side(bid), buyer(), seller()\n",
      "[GOOGLE] price(98.2), volume(5), aggressor_side(bid), buyer(), seller()\n",
      "[GOOGLE] price(98.2), volume(5), aggressor_side(bid), buyer(), seller()\n",
      "[GOOGLE] price(98.2), volume(5), aggressor_side(bid), buyer(), seller()\n",
      "[GOOGLE] price(98.10000000000001), volume(5), aggressor_side(bid), buyer(), seller()\n",
      "[GOOGLE] price(98.10000000000001), volume(5), aggressor_side(bid), buyer(), seller()\n",
      "[GOOGLE] price(98.10000000000001), volume(5), aggressor_side(bid), buyer(), seller()\n",
      "[GOOGLE] price(98.10000000000001), volume(5), aggressor_side(bid), buyer(), seller()\n",
      "[GOOGLE] price(98.10000000000001), volume(5), aggressor_side(bid), buyer(), seller()\n",
      "[GOOGLE] price(98.10000000000001), volume(5), aggressor_side(bid), buyer(), seller()\n",
      "[GOOGLE] price(98.10000000000001), volume(5), aggressor_side(bid), buyer(), seller()\n"
     ]
    }
   ],
   "source": [
    "# Returns all public tradeticks since the last time this function was called\n",
    "tradeticks = e.poll_new_trade_ticks(instrument_id)\n",
    "for t in tradeticks:\n",
    "    print(f\"[{t.instrument_id}] price({t.price}), volume({t.volume}), aggressor_side({t.aggressor_side}), buyer({t.buyer}), seller({t.seller})\")"
   ]
  },
  {
   "cell_type": "code",
   "execution_count": 12,
   "metadata": {},
   "outputs": [
    {
     "name": "stdout",
     "output_type": "stream",
     "text": [
      "<optibook.common_types.TradeTick object at 0x7f50735530b8>\n",
      "<optibook.common_types.TradeTick object at 0x7f5070104e80>\n",
      "<optibook.common_types.TradeTick object at 0x7f5070157dd8>\n",
      "<optibook.common_types.TradeTick object at 0x7f5070104d30>\n",
      "<optibook.common_types.TradeTick object at 0x7f5070104e10>\n",
      "<optibook.common_types.TradeTick object at 0x7f507009aba8>\n",
      "<optibook.common_types.TradeTick object at 0x7f507009a4e0>\n",
      "<optibook.common_types.TradeTick object at 0x7f507009aeb8>\n",
      "<optibook.common_types.TradeTick object at 0x7f507009a0b8>\n",
      "<optibook.common_types.TradeTick object at 0x7f507009a7f0>\n",
      "<optibook.common_types.TradeTick object at 0x7f50701c5ac8>\n",
      "<optibook.common_types.TradeTick object at 0x7f507009add8>\n",
      "<optibook.common_types.TradeTick object at 0x7f50700a67b8>\n",
      "<optibook.common_types.TradeTick object at 0x7f50700a6978>\n",
      "<optibook.common_types.TradeTick object at 0x7f507009ae80>\n",
      "<optibook.common_types.TradeTick object at 0x7f50700a6128>\n",
      "<optibook.common_types.TradeTick object at 0x7f50700a6be0>\n",
      "<optibook.common_types.TradeTick object at 0x7f50700a6d30>\n",
      "<optibook.common_types.TradeTick object at 0x7f50700a6710>\n",
      "<optibook.common_types.TradeTick object at 0x7f50700ab630>\n"
     ]
    }
   ],
   "source": [
    "# Returns all public tradeticks since the instantiation of the Exchange\n",
    "tradeticks = e.get_trade_tick_history(instrument_id)\n",
    "for t in tradeticks:\n",
    "    print(t)"
   ]
  },
  {
   "cell_type": "code",
   "execution_count": 13,
   "metadata": {},
   "outputs": [],
   "source": [
    "# See all your outstanding orders\n",
    "outstanding = e.get_outstanding_orders(instrument_id)\n",
    "for o in outstanding.values():\n",
    "    print(f\"Outstanding order: order_id({o.order_id}), instrument_id({o.instrument_id}), price({o.price}), volume({o.volume}), side({o.side})\")"
   ]
  },
  {
   "cell_type": "markdown",
   "metadata": {},
   "source": [
    "## Inserting and Deleting Orders"
   ]
  },
  {
   "cell_type": "code",
   "execution_count": 14,
   "metadata": {},
   "outputs": [
    {
     "name": "stdout",
     "output_type": "stream",
     "text": [
      "Order Id: 312699\n"
     ]
    }
   ],
   "source": [
    "# Insert bid limit order - This trades against any current orders, and any remainders become new resting orders in the book\n",
    "# Use this to buy.\n",
    "result = e.insert_order(instrument_id, price=3000, volume=21, side='bid', order_type='limit')\n",
    "print(f\"Order Id: {result}\")"
   ]
  },
  {
   "cell_type": "code",
   "execution_count": 15,
   "metadata": {},
   "outputs": [
    {
     "name": "stdout",
     "output_type": "stream",
     "text": [
      "Order Id: 312708\n"
     ]
    }
   ],
   "source": [
    "# Insert ask limit order - This trades against any current orders, and any remainders become new resting orders in the book\n",
    "# Use this to sell.\n",
    "result = e.insert_order(instrument_id, price=3000, volume=1, side='ask', order_type='limit')\n",
    "print(f\"Order Id: {result}\")"
   ]
  },
  {
   "cell_type": "code",
   "execution_count": 16,
   "metadata": {},
   "outputs": [
    {
     "name": "stdout",
     "output_type": "stream",
     "text": [
      "Order Id: 312720\n"
     ]
    }
   ],
   "source": [
    "# Insert bid IOC - This can trade against any resting volume but does not remain in the book\n",
    "# Use this to buy.\n",
    "result = e.insert_order(instrument_id, price=445.0, volume=1, side='bid', order_type='ioc')\n",
    "print(f\"Order Id: {result}\")"
   ]
  },
  {
   "cell_type": "code",
   "execution_count": 17,
   "metadata": {},
   "outputs": [
    {
     "name": "stdout",
     "output_type": "stream",
     "text": [
      "Order Id: 312727\n"
     ]
    }
   ],
   "source": [
    "# Insert ask IOC - This can trade against any resting volume but does not remain in the book\n",
    "# Use this to sell.\n",
    "result = e.insert_order(instrument_id, price=430.0, volume=1, side='ask', order_type='ioc')\n",
    "print(f\"Order Id: {result}\")"
   ]
  },
  {
   "cell_type": "code",
   "execution_count": 18,
   "metadata": {},
   "outputs": [
    {
     "name": "stdout",
     "output_type": "stream",
     "text": [
      "\n",
      "Deleted order id 4: False\n"
     ]
    }
   ],
   "source": [
    "# Attempt to delete inserted order by order_id\n",
    "order_id = 4\n",
    "result = e.delete_order(instrument_id, order_id=order_id)\n",
    "print()\n",
    "print(f\"Deleted order id {order_id}: {result}\")"
   ]
  },
  {
   "cell_type": "code",
   "execution_count": 19,
   "metadata": {},
   "outputs": [
    {
     "name": "stdout",
     "output_type": "stream",
     "text": [
      "Changed volume for order id 5 to 16 lots: False\n"
     ]
    }
   ],
   "source": [
    "# Change volume for existing order\n",
    "order_id = 5\n",
    "new_volume = 16\n",
    "result = e.amend_order(instrument_id, order_id=order_id, volume=new_volume)\n",
    "print(f\"Changed volume for order id {order_id} to {new_volume} lots: {result}\")"
   ]
  },
  {
   "cell_type": "code",
   "execution_count": 20,
   "metadata": {},
   "outputs": [
    {
     "name": "stdout",
     "output_type": "stream",
     "text": [
      "Deleted order id 312708: True\n"
     ]
    }
   ],
   "source": [
    "# Delete all outstanding orders\n",
    "outstanding = e.get_outstanding_orders(instrument_id)\n",
    "for o in outstanding.values():\n",
    "    result = e.delete_order(instrument_id, order_id=o.order_id)\n",
    "    print(f\"Deleted order id {o.order_id}: {result}\")"
   ]
  },
  {
   "cell_type": "markdown",
   "metadata": {},
   "source": [
    "## 'Hack' Out of Positions"
   ]
  },
  {
   "cell_type": "code",
   "execution_count": 21,
   "metadata": {},
   "outputs": [
    {
     "name": "stdout",
     "output_type": "stream",
     "text": [
      "{'AMAZON': 0, 'GOOGLE': 22, 'TECH_BASKET': 0}\n",
      "{'AMAZON': 0, 'GOOGLE': 0, 'TECH_BASKET': 0}\n"
     ]
    }
   ],
   "source": [
    "# Get out of all positions you are currently holding, regarless of the loss involved. That means selling whatever\n",
    "# you are long, and buying-back whatever you are short. Be sure you know what you are doing when you use this logic.\n",
    "print(e.get_positions())\n",
    "for s, p in e.get_positions().items():\n",
    "    if p > 0:\n",
    "        e.insert_order(s, price=1, volume=p, side='ask', order_type='ioc')\n",
    "    elif p < 0:\n",
    "        e.insert_order(s, price=100000, volume=-p, side='bid', order_type='ioc')  \n",
    "print(e.get_positions())"
   ]
  },
  {
   "cell_type": "code",
   "execution_count": null,
   "metadata": {},
   "outputs": [],
   "source": []
  }
 ],
 "metadata": {
  "kernelspec": {
   "display_name": "Python 3",
   "language": "python",
   "name": "python3"
  },
  "language_info": {
   "codemirror_mode": {
    "name": "ipython",
    "version": 3
   },
   "file_extension": ".py",
   "mimetype": "text/x-python",
   "name": "python",
   "nbconvert_exporter": "python",
   "pygments_lexer": "ipython3",
   "version": "3.6.12"
  }
 },
 "nbformat": 4,
 "nbformat_minor": 4
}
