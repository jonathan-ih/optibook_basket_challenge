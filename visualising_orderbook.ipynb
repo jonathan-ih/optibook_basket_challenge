{
 "cells": [
  {
   "cell_type": "code",
   "execution_count": 8,
   "id": "remarkable-plane",
   "metadata": {},
   "outputs": [
    {
     "name": "stderr",
     "output_type": "stream",
     "text": [
      "2021-03-06 21:44:36,516 [asyncio   ] [MainThread  ] Using selector: EpollSelector\n"
     ]
    }
   ],
   "source": [
    "from IPython.display import clear_output\n",
    "\n",
    "from optibook.synchronous_client import InfoOnly\n",
    "import random\n",
    "import time\n",
    "import datetime\n",
    "\n",
    "import logging\n",
    "logger = logging.getLogger('client')\n",
    "logger.setLevel('ERROR')\n",
    "\n",
    "\n",
    "def book_pretty(price_book):\n",
    "    if price_book is None:\n",
    "        return 'NO BOOK'\n",
    "    \n",
    "    res = ''\n",
    "    for level in reversed(range(6)):\n",
    "        if level >= len(price_book.asks):\n",
    "            res += \"\\n\"\n",
    "        else:\n",
    "            ask = price_book.asks[level]\n",
    "            res += f\"        |  {ask.price:8.2f}  |  {ask.volume:5} \\n\"\n",
    "\n",
    "    res += '------------------------------\\n'\n",
    "\n",
    "    for level in range(6):\n",
    "        if level >= len(price_book.bids):\n",
    "            res += \"\\n\"\n",
    "        else:\n",
    "            bid = price_book.bids[level]\n",
    "            res += f\" {bid.volume:5}  |  {bid.price:8.2f}  |       \\n\"   \n",
    "\n",
    "    return res\n",
    "\n",
    "def tradeticks_pretty(disp_tradeticks):\n",
    "    res = ''\n",
    "    for t, dtt in reversed(disp_tradeticks):\n",
    "        res += f\"{t.strftime('%H:%M:%S')} -- {dtt.volume:5} @ {dtt.price:8.2f}\\n\"\n",
    "    return res\n",
    "\n",
    "i = InfoOnly()\n",
    "#i = InfoOnly(host='host-to-connect-to')\n",
    "i.connect()"
   ]
  },
  {
   "cell_type": "code",
   "execution_count": 9,
   "id": "medium-philadelphia",
   "metadata": {},
   "outputs": [
    {
     "name": "stdout",
     "output_type": "stream",
     "text": [
      "Order Book for 'GOOGLE':\n",
      "\n",
      "\n",
      "\n",
      "\n",
      "\n",
      "\n",
      "------------------------------\n",
      "   250  |     97.90  |       \n",
      "\n",
      "\n",
      "\n",
      "\n",
      "\n",
      "\n",
      "\n",
      "Trade ticks in last 20.0s for 'GOOGLE':\n",
      "\n"
     ]
    },
    {
     "ename": "IndexError",
     "evalue": "list index out of range",
     "output_type": "error",
     "traceback": [
      "\u001b[0;31m---------------------------------------------------------------------------\u001b[0m",
      "\u001b[0;31mIndexError\u001b[0m                                Traceback (most recent call last)",
      "\u001b[0;32m<ipython-input-9-d6ff749ccce2>\u001b[0m in \u001b[0;36m<module>\u001b[0;34m\u001b[0m\n\u001b[1;32m     20\u001b[0m     \u001b[0mprint\u001b[0m\u001b[0;34m(\u001b[0m\u001b[0;34mf\"\\nTrade ticks in last {disp_tradeticks_max_age.total_seconds()}s for '{feedcode}':\"\u001b[0m\u001b[0;34m)\u001b[0m\u001b[0;34m\u001b[0m\u001b[0;34m\u001b[0m\u001b[0m\n\u001b[1;32m     21\u001b[0m     \u001b[0mprint\u001b[0m\u001b[0;34m(\u001b[0m\u001b[0mtradeticks_pretty\u001b[0m\u001b[0;34m(\u001b[0m\u001b[0mdisp_tradeticks\u001b[0m\u001b[0;34m)\u001b[0m\u001b[0;34m)\u001b[0m\u001b[0;34m\u001b[0m\u001b[0;34m\u001b[0m\u001b[0m\n\u001b[0;32m---> 22\u001b[0;31m     \u001b[0mprint\u001b[0m\u001b[0;34m(\u001b[0m\u001b[0mbook\u001b[0m\u001b[0;34m.\u001b[0m\u001b[0masks\u001b[0m\u001b[0;34m[\u001b[0m\u001b[0;36m0\u001b[0m\u001b[0;34m]\u001b[0m\u001b[0;34m)\u001b[0m\u001b[0;34m\u001b[0m\u001b[0;34m\u001b[0m\u001b[0m\n\u001b[0m\u001b[1;32m     23\u001b[0m     \u001b[0mtime\u001b[0m\u001b[0;34m.\u001b[0m\u001b[0msleep\u001b[0m\u001b[0;34m(\u001b[0m\u001b[0;36m0.520\u001b[0m\u001b[0;34m)\u001b[0m\u001b[0;34m\u001b[0m\u001b[0;34m\u001b[0m\u001b[0m\n",
      "\u001b[0;31mIndexError\u001b[0m: list index out of range"
     ]
    }
   ],
   "source": [
    "disp_tradeticks = []\n",
    "disp_tradeticks_max_age = datetime.timedelta(seconds=20)\n",
    "feedcode = 'GOOGLE'\n",
    "\n",
    "while True:\n",
    "    now = datetime.datetime.now()\n",
    "\n",
    "    book = i.get_last_price_book(feedcode)\n",
    "    trade_ticks = i.poll_new_trade_ticks(feedcode)\n",
    "\n",
    "    for tt in trade_ticks:\n",
    "        disp_tradeticks.append((now, tt))\n",
    "\n",
    "    disp_tradeticks = [(t, dtt) for t, dtt in disp_tradeticks if now - t < disp_tradeticks_max_age]\n",
    "\n",
    "    clear_output(wait=True)\n",
    "    print(f\"Order Book for '{feedcode}':\")\n",
    "    print(book_pretty(book))\n",
    "    \n",
    "    print(f\"\\nTrade ticks in last {disp_tradeticks_max_age.total_seconds()}s for '{feedcode}':\")\n",
    "    print(tradeticks_pretty(disp_tradeticks))    \n",
    "    time.sleep(0.520)"
   ]
  },
  {
   "cell_type": "code",
   "execution_count": 7,
   "id": "honey-uruguay",
   "metadata": {},
   "outputs": [
    {
     "name": "stdout",
     "output_type": "stream",
     "text": [
      "[5, 4, 3, 2, 1, 0]\n"
     ]
    }
   ],
   "source": [
    "print([x for x in reversed(range(6))])"
   ]
  },
  {
   "cell_type": "code",
   "execution_count": null,
   "id": "silver-adrian",
   "metadata": {},
   "outputs": [],
   "source": []
  }
 ],
 "metadata": {
  "kernelspec": {
   "display_name": "Python 3",
   "language": "python",
   "name": "python3"
  },
  "language_info": {
   "codemirror_mode": {
    "name": "ipython",
    "version": 3
   },
   "file_extension": ".py",
   "mimetype": "text/x-python",
   "name": "python",
   "nbconvert_exporter": "python",
   "pygments_lexer": "ipython3",
   "version": "3.6.12"
  }
 },
 "nbformat": 4,
 "nbformat_minor": 5
}
